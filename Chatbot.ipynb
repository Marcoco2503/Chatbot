{
 "cells": [
  {
   "cell_type": "code",
   "execution_count": 2,
   "metadata": {},
   "outputs": [
    {
     "name": "stderr",
     "output_type": "stream",
     "text": [
      "C:\\Users\\cabro\\AppData\\Local\\Packages\\PythonSoftwareFoundation.Python.3.11_qbz5n2kfra8p0\\LocalCache\\local-packages\\Python311\\site-packages\\tqdm\\auto.py:21: TqdmWarning: IProgress not found. Please update jupyter and ipywidgets. See https://ipywidgets.readthedocs.io/en/stable/user_install.html\n",
      "  from .autonotebook import tqdm as notebook_tqdm\n"
     ]
    }
   ],
   "source": [
    "from datasets import load_dataset\n",
    "import streamlit as st\n",
    "\n",
    "dataset = load_dataset(\"vicgalle/alpaca-gpt4\")\n"
   ]
  },
  {
   "cell_type": "code",
   "execution_count": 3,
   "metadata": {},
   "outputs": [
    {
     "name": "stdout",
     "output_type": "stream",
     "text": [
      "{'instruction': 'Give three tips for staying healthy.', 'input': '', 'output': '1. Eat a balanced and nutritious diet: Make sure your meals are inclusive of a variety of fruits and vegetables, lean protein, whole grains, and healthy fats. This helps to provide your body with the essential nutrients to function at its best and can help prevent chronic diseases.\\n\\n2. Engage in regular physical activity: Exercise is crucial for maintaining strong bones, muscles, and cardiovascular health. Aim for at least 150 minutes of moderate aerobic exercise or 75 minutes of vigorous exercise each week.\\n\\n3. Get enough sleep: Getting enough quality sleep is crucial for physical and mental well-being. It helps to regulate mood, improve cognitive function, and supports healthy growth and immune function. Aim for 7-9 hours of sleep each night.', 'text': 'Below is an instruction that describes a task. Write a response that appropriately completes the request.\\n\\n### Instruction:\\nGive three tips for staying healthy.\\n\\n### Response:\\n1. Eat a balanced and nutritious diet: Make sure your meals are inclusive of a variety of fruits and vegetables, lean protein, whole grains, and healthy fats. This helps to provide your body with the essential nutrients to function at its best and can help prevent chronic diseases.\\n\\n2. Engage in regular physical activity: Exercise is crucial for maintaining strong bones, muscles, and cardiovascular health. Aim for at least 150 minutes of moderate aerobic exercise or 75 minutes of vigorous exercise each week.\\n\\n3. Get enough sleep: Getting enough quality sleep is crucial for physical and mental well-being. It helps to regulate mood, improve cognitive function, and supports healthy growth and immune function. Aim for 7-9 hours of sleep each night.'}\n"
     ]
    }
   ],
   "source": [
    "print(dataset[\"train\"][0])  # Exemple d'un élément"
   ]
  },
  {
   "cell_type": "code",
   "execution_count": 4,
   "metadata": {},
   "outputs": [
    {
     "name": "stdout",
     "output_type": "stream",
     "text": [
      "[{'question': 'Give three tips for staying healthy.', 'answer': '1. Eat a balanced and nutritious diet: Make sure your meals are inclusive of a variety of fruits and vegetables, lean protein, whole grains, and healthy fats. This helps to provide your body with the essential nutrients to function at its best and can help prevent chronic diseases.\\n\\n2. Engage in regular physical activity: Exercise is crucial for maintaining strong bones, muscles, and cardiovascular health. Aim for at least 150 minutes of moderate aerobic exercise or 75 minutes of vigorous exercise each week.\\n\\n3. Get enough sleep: Getting enough quality sleep is crucial for physical and mental well-being. It helps to regulate mood, improve cognitive function, and supports healthy growth and immune function. Aim for 7-9 hours of sleep each night.'}, {'question': 'What are the three primary colors?', 'answer': 'The three primary colors are red, blue, and yellow. These colors are called primary because they cannot be created by mixing other colors and all other colors can be made by combining them in various proportions. In the additive color system, used for light, the primary colors are red, green, and blue (RGB).'}, {'question': 'Describe the structure of an atom.', 'answer': \"An atom is the basic building block of all matter and is made up of three types of particles: protons, neutrons, and electrons. The structure of an atom can be described as a nucleus at the center surrounded by a cloud of electrons.\\n\\nThe nucleus of an atom is made up of protons and neutrons. Protons are positively charged particles and neutrons are neutral particles with no charge. Both of these particles are located in the nucleus of the atom, which is at the center of the atom and contains most of the atom's mass.\\n\\nSurrounding the nucleus of the atom is a cloud of electrons. Electrons are negatively charged particles that are in constant motion around the nucleus. The electron cloud is divided into shells or orbitals, and each shell can hold a certain number of electrons. The number of electrons in the outermost shell, called the valence shell, determines the chemical properties of the atom. \\n\\nIn a neutral atom, the number of protons in the nucleus is equal to the number of electrons in the electron cloud, so the positive and negative charges balance out and the atom has no overall charge. The number of protons, also called the atomic number, determines what element the atom is.\"}, {'question': 'How can we reduce air pollution?', 'answer': 'There are several ways to reduce air pollution, including:\\n\\n1. Reduce energy consumption: By conserving energy, we reduce the amount of pollution emitted from power plants. Some ways to achieve this include: using energy-efficient appliances and lighting, insulating homes, and shutting off lights and electronics when not in use.\\n\\n2. Use public transportation or carpool: Cars and trucks are major sources of pollution. By using public transportation, carpooling or biking, you can reduce the number of cars on the road, which in turn reduces emissions.\\n\\n3. Be responsible with waste: When waste is burned or decomposed, they can release harmful gases into the air. Dispose of hazardous waste correctly and recycle materials like plastics, paper, and glass when possible.\\n\\n4. Support clean energy sources: Renewable energy sources like solar and wind power generate little or no pollution. Support clean energy companies and projects, and consider installing renewable energy systems in your home.\\n\\n5. Drive efficiently: If you need to drive, make sure your vehicle is well maintained and drive efficiently by avoiding rapid acceleration and braking, and reducing idling.\\n\\n6. Be mindful of product choices: Some products and practices release more pollution than others. Choose products with eco-friendly packaging and try to minimize your use of aerosol sprays, which can release harmful chemicals into the air.'}, {'question': 'Describe a time when you had to make a difficult decision.', 'answer': 'As an AI assistant, I do not have my own personal experiences or physical existence. However, I am programmed to make decisions based on algorithms, logic, and data. There are times when I encounter a situation where making a decision is difficult because there may be conflicting information or multiple possible outcomes. In such cases, I use my ability to analyze and weigh the risks and benefits of each option and come to a conclusion that is most likely to achieve the desired result.'}]\n"
     ]
    }
   ],
   "source": [
    "# Extraire questions et réponses\n",
    "qa_pairs = [\n",
    "    {\"question\": item[\"instruction\"], \"answer\": item[\"output\"]}\n",
    "    for item in dataset[\"train\"]\n",
    "]\n",
    "\n",
    "# Afficher les 5 premières paires\n",
    "print(qa_pairs[:5])"
   ]
  },
  {
   "cell_type": "code",
   "execution_count": null,
   "metadata": {},
   "outputs": [],
   "source": [
    "import spacy\n",
    "\n",
    "nlp = spacy.load(\"en_core_web_sm\")\n",
    "\n",
    "def clean_text(text):\n",
    "    doc = nlp(text)\n",
    "    cleaned = [\n",
    "        token.lemma_.lower()\n",
    "        for token in doc\n",
    "        if not token.is_stop and not token.is_punct\n",
    "    ]\n",
    "    return \" \".join(cleaned)\n",
    "\n",
    "# Nettoyer les questions et réponses\n",
    "for pair in qa_pairs:\n",
    "    pair[\"cleaned_question\"] = clean_text(pair[\"question\"])\n",
    "    pair[\"cleaned_answer\"] = clean_text(pair[\"answer\"])\n",
    "\n",
    "# Exemple de données nettoyées\n",
    "print(qa_pairs[:5])"
   ]
  },
  {
   "cell_type": "code",
   "execution_count": 1,
   "metadata": {},
   "outputs": [
    {
     "ename": "NameError",
     "evalue": "name 'qa_pairs' is not defined",
     "output_type": "error",
     "traceback": [
      "\u001b[1;31m---------------------------------------------------------------------------\u001b[0m",
      "\u001b[1;31mNameError\u001b[0m                                 Traceback (most recent call last)",
      "Cell \u001b[1;32mIn[1], line 5\u001b[0m\n\u001b[0;32m      2\u001b[0m \u001b[38;5;28;01mfrom\u001b[39;00m \u001b[38;5;21;01mnltk\u001b[39;00m\u001b[38;5;21;01m.\u001b[39;00m\u001b[38;5;21;01mtokenize\u001b[39;00m \u001b[38;5;28;01mimport\u001b[39;00m word_tokenize\n\u001b[0;32m      4\u001b[0m \u001b[38;5;66;03m# Tokenisation des questions et réponses\u001b[39;00m\n\u001b[1;32m----> 5\u001b[0m corpus \u001b[38;5;241m=\u001b[39m [word_tokenize(pair[\u001b[38;5;124m\"\u001b[39m\u001b[38;5;124mcleaned_question\u001b[39m\u001b[38;5;124m\"\u001b[39m]) \u001b[38;5;28;01mfor\u001b[39;00m pair \u001b[38;5;129;01min\u001b[39;00m \u001b[43mqa_pairs\u001b[49m]\n\u001b[0;32m      6\u001b[0m corpus \u001b[38;5;241m+\u001b[39m\u001b[38;5;241m=\u001b[39m [word_tokenize(pair[\u001b[38;5;124m\"\u001b[39m\u001b[38;5;124mcleaned_answer\u001b[39m\u001b[38;5;124m\"\u001b[39m]) \u001b[38;5;28;01mfor\u001b[39;00m pair \u001b[38;5;129;01min\u001b[39;00m qa_pairs]\n\u001b[0;32m      8\u001b[0m \u001b[38;5;28mprint\u001b[39m(\u001b[38;5;124m\"\u001b[39m\u001b[38;5;124mExemple de corpus tokenisé :\u001b[39m\u001b[38;5;124m\"\u001b[39m, corpus[:\u001b[38;5;241m5\u001b[39m])\n",
      "\u001b[1;31mNameError\u001b[0m: name 'qa_pairs' is not defined"
     ]
    }
   ],
   "source": [
    "from gensim.models import Word2Vec\n",
    "from nltk.tokenize import word_tokenize\n",
    "\n",
    "# Tokenisation des questions et réponses\n",
    "corpus = [word_tokenize(pair[\"cleaned_question\"]) for pair in qa_pairs]\n",
    "corpus += [word_tokenize(pair[\"cleaned_answer\"]) for pair in qa_pairs]\n",
    "\n",
    "print(\"Exemple de corpus tokenisé :\", corpus[:5])\n"
   ]
  },
  {
   "cell_type": "code",
   "execution_count": 6,
   "metadata": {},
   "outputs": [
    {
     "name": "stdout",
     "output_type": "stream",
     "text": [
      "Modèle Word2Vec entraîné et sauvegardé.\n"
     ]
    }
   ],
   "source": [
    "# Entraîner un modèle Word2Vec\n",
    "word2vec_model = Word2Vec(\n",
    "    sentences=corpus,  # Corpus de texte\n",
    "    vector_size=300,   # Taille des vecteurs\n",
    "    window=5,          # Taille de la fenêtre de contexte\n",
    "    min_count=2,       # Mots ignorés s'ils apparaissent moins de 2 fois\n",
    "    workers=4          # Nombre de threads pour l'entraînement\n",
    ")\n",
    "\n",
    "# Sauvegarder le modèle pour réutilisation\n",
    "word2vec_model.save(\"word2vec_model.model\")\n",
    "print(\"Modèle Word2Vec entraîné et sauvegardé.\")\n"
   ]
  },
  {
   "cell_type": "code",
   "execution_count": 7,
   "metadata": {},
   "outputs": [
    {
     "name": "stdout",
     "output_type": "stream",
     "text": [
      "[ 0.34830174 -0.68942875  1.8957697  -1.337736    0.14192504 -0.15096317\n",
      " -0.35081038  0.48723295 -0.03171167  2.7057714   1.1881399  -2.50578\n",
      " -0.79031545  1.3050103  -0.7731478   1.8828013  -0.7334777  -0.37587053\n",
      "  1.2324599   1.0084045   0.6169321  -0.4868601  -0.17397475  2.1679754\n",
      " -0.35112992  0.31512225 -1.6387095   1.7071099   1.1167533  -0.8303334\n",
      "  1.226821    0.21648526 -0.13620634  2.0616713   0.90552354 -0.42578095\n",
      "  1.231223   -0.8723191   1.3670287   1.2949588  -0.86143833 -1.7298138\n",
      "  0.75559306 -1.7263805  -1.7478775   0.00778423 -1.604616   -0.96309644\n",
      " -0.5170565   1.1199994  -0.29306415 -1.9125861   0.74876225 -1.6985742\n",
      " -0.01057893  1.0446043   0.35433415 -0.5394359   0.7438492   0.09379223\n",
      " -0.03571579  0.8535809  -1.2410282   0.9270205   0.13962589 -0.4861284\n",
      "  2.1037004   1.0007379   0.0195886  -1.3223832  -1.325878    0.5015279\n",
      "  0.13420543 -0.29212752 -1.1957299   0.26703838 -1.6463346  -0.35108617\n",
      "  0.89651865 -0.06522189 -0.19318713 -0.41779175 -0.20982976  0.9187062\n",
      "  1.2316195   0.8127159  -1.2475692  -0.37456587  1.1899016   0.5791012\n",
      "  0.37715238 -0.14390524  0.18398315 -0.35279477 -0.46149802  1.0274494\n",
      "  0.6293938   0.14568144  1.4250687   0.75735575  0.05676324 -0.4022331\n",
      "  0.08885375  0.93742967 -1.0058572   0.64123815  0.05393206 -0.9903119\n",
      " -1.3656938   0.02630596 -1.1897275   0.90818775 -0.36886325  2.3213582\n",
      " -0.7589688  -0.2708733  -1.1256549  -0.2155324   0.36807412 -1.3498315\n",
      "  0.43044198 -0.25005886  0.7832159  -1.4634261  -0.25824586 -1.0152389\n",
      " -0.7538481   1.5982103  -0.46441895  0.4033235  -0.6324541  -0.9334916\n",
      "  0.06448557  1.0140853   0.4672157  -1.6916566  -0.58394283 -0.36634028\n",
      " -0.52807844  2.4323509  -0.9959194   0.6888493   0.6055176   0.9050479\n",
      "  2.7402134  -0.32056826 -0.00736619  0.9149468   0.45624414  1.7875001\n",
      "  0.93875     0.7964469  -1.9962931  -1.9300654   1.0162226  -0.83722955\n",
      " -0.25384268 -0.44281152 -2.1908224   1.4170457  -0.08935115  1.6965573\n",
      "  2.0115747   1.071286   -0.9667109  -1.612543   -0.07348352  0.92470485\n",
      " -0.9626227   0.6136479   1.5552081   0.20564249 -0.91085213  0.86656034\n",
      "  0.07158573 -0.5262211  -0.28980863 -0.15248603  0.57399577  1.4046721\n",
      " -0.65827847 -1.2581387   0.27021423 -0.8365966  -0.12903675 -0.36982715\n",
      "  1.07105     1.1177728   0.81484115  0.01713797 -0.7890374   0.1546158\n",
      " -0.15390876 -0.14865065 -0.20691232  1.3254884  -0.26220888  2.1194117\n",
      " -0.23712948 -0.00332379 -1.7873379  -0.5224212   0.82492614  0.6890518\n",
      "  0.04331515 -0.3645902   0.8032263   0.31319767 -0.05905109 -0.327088\n",
      " -0.44383863  0.0726764  -2.009904    0.4754867  -0.5501643  -1.6246506\n",
      " -0.45783243  0.5091076   0.25421306 -0.9496524   1.41356    -0.24451819\n",
      "  1.9179059  -0.7509459   0.6782117  -0.56987923  0.15265958 -0.17693637\n",
      "  0.2362354  -0.20036912 -0.23544952  1.8988284  -1.7562644   1.9253417\n",
      " -0.9358247   0.2673799  -1.7407025   1.0993359  -1.374458   -0.5587487\n",
      "  0.24473727 -0.9009463  -1.5612001   1.0102956  -0.36129794  1.3493493\n",
      "  0.48700234  0.66382766 -0.36183268 -0.8955539  -0.11404425  1.137607\n",
      "  0.10419191 -1.8893003  -0.5956315   0.23169522 -0.6286258   1.3760996\n",
      " -1.1005566  -1.1882026   0.35590455 -0.8719171  -0.917309    1.5114703\n",
      " -1.1530455   0.01131221  0.77647424  2.1771326   0.79773486 -0.37282798\n",
      " -0.4121436   0.20163241  0.48979163  1.4267666   1.2961107  -0.91033566\n",
      "  0.564708   -0.1180187   2.0089288  -1.3603251   0.96560484 -0.47187722\n",
      " -0.12014886  0.47889256 -0.03561994  0.59654695  0.5191493  -1.391408\n",
      " -1.8310432  -1.4011437  -0.5098947   0.01680412  0.5776562   1.158095\n",
      " -0.01441502  0.9543307   1.1901025   0.908074    0.24071817  0.32262376]\n"
     ]
    }
   ],
   "source": [
    "# Charger un modèle Word2Vec sauvegardé\n",
    "word2vec_model = Word2Vec.load(\"word2vec_model.model\")\n",
    "\n",
    "# Vérifier les vecteurs d'un mot\n",
    "print(word2vec_model.wv[\"health\"])  # Exemple pour le mot 'health'"
   ]
  },
  {
   "cell_type": "code",
   "execution_count": 8,
   "metadata": {},
   "outputs": [
    {
     "name": "stdout",
     "output_type": "stream",
     "text": [
      "Embedding pour la question : [-0.29703715 -0.10997645  0.6723885  -0.5187385  -1.1827625  -0.28674906\n",
      "  0.13030064  0.483415   -0.3570408   2.3250408  -0.36229476 -0.98983383\n",
      " -0.39648485  0.35604915  0.1036403   0.33078563 -0.93228894 -0.15271376\n",
      "  0.12611455  0.28620782  1.01119     0.21919106 -0.35367754  0.16813844\n",
      " -0.05643511  0.87095636 -1.1673893   1.4794537   0.3324403  -0.78654665\n",
      "  0.6304491   0.3594596   0.4901556   0.467652   -0.6386835  -0.6058442\n",
      "  0.24971531  0.54240584  1.1502842  -0.07795169 -0.37954774 -0.9303717\n",
      "  0.7454948   0.09752699 -0.6513335   0.7276263   0.23814158 -0.73803884\n",
      "  0.10072187  1.1574663  -0.35827184  0.14173386  0.4308665   0.08105826\n",
      " -0.09741207  0.31968665  0.20693462 -0.23730046 -0.498636    0.6846457\n",
      "  0.13330568  0.13805254 -0.24278581  1.1326233   0.20357807  0.07394454\n",
      " -0.06791101  0.34911087  0.24798529  0.15796894 -0.9573367  -0.64676386\n",
      " -0.10805979 -0.4053034  -1.0223206   0.47645688  0.07105433  0.500444\n",
      "  0.18836474 -0.09964224 -0.94654894  0.3012125  -0.60297686  0.4385326\n",
      " -0.39424586  0.15953882 -0.15396033  0.1676964  -0.63643736 -0.80574536\n",
      "  0.1032689  -0.3385131  -0.03201665 -0.03909653 -0.16813879  0.3365573\n",
      " -0.49047908  1.4611807  -0.01796403  0.22848739  0.35900024  0.02777691\n",
      " -0.4368333   0.60680145 -0.32916343 -0.33013472  0.028341   -0.04187985\n",
      " -0.8589875   0.17152245 -0.55147016 -0.4458368   0.16073933 -0.41888127\n",
      " -0.9254082   0.7370353  -1.1599498  -0.8226268  -0.06687432 -0.74225825\n",
      "  0.34960178 -0.04594296 -0.37999275 -0.9527224  -0.3354261   0.04985845\n",
      " -0.9830158   1.1255294   0.59514064  0.6004391  -1.2109823   0.530322\n",
      " -0.0061377  -0.36575842  0.03753423 -1.0754629  -0.6036261  -0.8040919\n",
      "  0.54530877  1.3089639  -0.811822   -0.11074922  0.7183008   0.5617116\n",
      "  0.9923897   0.4870956  -0.12197258  0.50943077 -0.07292821  0.4961084\n",
      "  0.43021694  0.07999819  0.36339483 -0.804297    0.10928792  0.15364102\n",
      "  0.21613334  0.21428321 -0.93869895  0.8519211   0.24549897 -0.08739962\n",
      "  0.32856733  0.8165794   0.7359843  -1.4087844  -0.20745935  0.4656706\n",
      " -1.0792515  -0.15870465  0.99617356 -0.70968896 -0.23580904 -0.11873718\n",
      "  1.0513004  -0.68580604 -0.6691119  -0.07201824  0.4605683   0.8976976\n",
      "  0.00302293  0.9204189  -0.32899114 -0.34362885  0.5376907   0.6599206\n",
      "  0.51417327  0.51329404  0.5495985  -0.07373448 -0.3103774   0.5375963\n",
      "  0.3048862   0.19747543  0.28907862  0.60477346  0.28686985  0.6123839\n",
      " -1.124349   -1.040823   -0.5956336  -0.8490184   0.2634506   0.4146657\n",
      " -0.77014714  0.31429574  0.65708137 -0.15082376 -0.61521584  0.16668265\n",
      " -0.15822388 -0.38443974 -0.01592819  0.5044562  -0.11994971  0.04179627\n",
      "  0.5225901  -0.22234108  0.31118056 -0.35169753 -0.6746585  -0.3751925\n",
      "  0.5840847  -0.75028104  0.00911946  0.04707177  1.0135226   0.25166604\n",
      "  0.26639944  0.4931152   0.2563937   0.5252741   1.0907947   1.054721\n",
      "  0.02662405 -0.42576846 -0.27359325  0.03832685 -0.31889018 -0.89903855\n",
      " -0.00944124 -0.03539978 -0.49522534  0.46303496  0.11013845  0.5187045\n",
      "  0.6356525   0.47803536 -0.15115948 -1.2132416  -0.2239445   0.1848564\n",
      "  0.24016158 -0.30887544 -0.7355868  -0.07679778 -0.4994332   0.43465772\n",
      "  0.42393565  1.5976549  -0.08302128  0.21083657  0.9895976   0.19372082\n",
      "  0.21122308 -0.6794054  -0.1703812   1.9828829  -0.4984065  -0.31787845\n",
      "  0.49874684  0.16214834  1.5092293   0.54320806 -0.13516738 -1.2832736\n",
      " -0.6574572  -0.08675136  0.07900556 -0.37027562  0.32864144  0.7829159\n",
      " -0.52567035  0.7345476  -0.20678301  0.5079903   0.11998951 -0.5996606\n",
      "  0.4314928  -0.8432741  -0.42591548 -0.27850333  1.0524129   0.71704966\n",
      " -0.34974924  0.09159038 -0.05625378  0.2831614   0.3170807  -0.2778783 ]\n"
     ]
    }
   ],
   "source": [
    "import numpy as np\n",
    "\n",
    "def sentence_to_embedding_word2vec(sentence, model):\n",
    "    \"\"\"\n",
    "    Convertit une phrase en un vecteur en prenant la moyenne des embeddings des mots.\n",
    "    \"\"\"\n",
    "    words = word_tokenize(sentence)\n",
    "    embeddings = [model.wv[word] for word in words if word in model.wv]\n",
    "    \n",
    "    if embeddings:\n",
    "        return np.mean(embeddings, axis=0)\n",
    "    else:\n",
    "        return np.zeros(model.vector_size)  # Vecteur nul si aucun mot n'est connu\n",
    "\n",
    "# Exemple pour une question\n",
    "example_question = qa_pairs[0][\"cleaned_question\"]\n",
    "embedding = sentence_to_embedding_word2vec(example_question, word2vec_model)\n",
    "print(\"Embedding pour la question :\", embedding)"
   ]
  },
  {
   "cell_type": "code",
   "execution_count": 9,
   "metadata": {},
   "outputs": [
    {
     "name": "stdout",
     "output_type": "stream",
     "text": [
      "Représentations vectorielles calculées avec Word2Vec.\n"
     ]
    }
   ],
   "source": [
    "for pair in qa_pairs:\n",
    "    pair[\"vector\"] = sentence_to_embedding_word2vec(pair[\"cleaned_question\"], word2vec_model)\n",
    "\n",
    "print(\"Représentations vectorielles calculées avec Word2Vec.\")"
   ]
  },
  {
   "cell_type": "code",
   "execution_count": 10,
   "metadata": {},
   "outputs": [
    {
     "name": "stdout",
     "output_type": "stream",
     "text": [
      "Question la plus similaire : Give three tips for staying healthy.\n",
      "Réponse correspondante : 1. Eat a balanced and nutritious diet: Make sure your meals are inclusive of a variety of fruits and vegetables, lean protein, whole grains, and healthy fats. This helps to provide your body with the essential nutrients to function at its best and can help prevent chronic diseases.\n",
      "\n",
      "2. Engage in regular physical activity: Exercise is crucial for maintaining strong bones, muscles, and cardiovascular health. Aim for at least 150 minutes of moderate aerobic exercise or 75 minutes of vigorous exercise each week.\n",
      "\n",
      "3. Get enough sleep: Getting enough quality sleep is crucial for physical and mental well-being. It helps to regulate mood, improve cognitive function, and supports healthy growth and immune function. Aim for 7-9 hours of sleep each night.\n",
      "Score de similarité : 0.9296711478148632\n"
     ]
    },
    {
     "name": "stderr",
     "output_type": "stream",
     "text": [
      "c:\\Users\\Coco\\Documents\\Dossier Ecole\\M1\\Python\\NLP\\env\\lib\\site-packages\\scipy\\spatial\\distance.py:647: RuntimeWarning: invalid value encountered in scalar divide\n",
      "  dist = 1.0 - uv / math.sqrt(uu * vv)\n"
     ]
    }
   ],
   "source": [
    "from scipy.spatial.distance import cosine\n",
    "\n",
    "def cosine_similarity(vec1, vec2):\n",
    "    \"\"\"\n",
    "    Calcule la similarité cosinus entre deux vecteurs.\n",
    "    Retourne une valeur entre -1 (opposés) et 1 (identiques).\n",
    "    \"\"\"\n",
    "    return 1 - cosine(vec1, vec2)\n",
    "\n",
    "def find_most_similar_question(user_question, qa_pairs, model):\n",
    "    \"\"\"\n",
    "    Trouve la question la plus similaire dans la base de données.\n",
    "    \"\"\"\n",
    "    # Convertir la question de l'utilisateur en vecteur\n",
    "    user_vector = sentence_to_embedding_word2vec(user_question, model)\n",
    "    \n",
    "    # Calculer les similarités cosinus\n",
    "    similarities = [\n",
    "        cosine_similarity(user_vector, pair[\"vector\"]) for pair in qa_pairs\n",
    "    ]\n",
    "    \n",
    "    # Identifier l'indice de la question la plus similaire\n",
    "    best_match_index = similarities.index(max(similarities))\n",
    "    \n",
    "    return qa_pairs[best_match_index], max(similarities)\n",
    "\n",
    "# Exemple d'utilisation\n",
    "user_question = \"How can I stay healthy?\"\n",
    "best_match, similarity_score = find_most_similar_question(user_question, qa_pairs, word2vec_model)\n",
    "print(f\"Question la plus similaire : {best_match['question']}\")\n",
    "print(f\"Réponse correspondante : {best_match['answer']}\")\n",
    "print(f\"Score de similarité : {similarity_score}\")\n"
   ]
  },
  {
   "cell_type": "code",
   "execution_count": 2,
   "metadata": {},
   "outputs": [
    {
     "name": "stdout",
     "output_type": "stream",
     "text": [
      "Chatbot : Posez votre question ou tapez 'exit' pour quitter.\n",
      "Chatbot : Here is a list of all the US Presidents since 1947:\n",
      "\n",
      "1. Harry S. Truman (1945-1953)\n",
      "2. Dwight D. Eisenhower (1953-1961)\n",
      "3. John F. Kennedy (1961-1963)\n",
      "4. Lyndon B. Johnson (1963-1969)\n",
      "5. Richard Nixon (1969-1974)\n",
      "6. Gerald Ford (1974-1977)\n",
      "7. Jimmy Carter (1977-1981)\n",
      "8. Ronald Reagan (1981-1989)\n",
      "9. George H. W. Bush (1989-1993)\n",
      "10. Bill Clinton (1993-2001)\n",
      "11. George W. Bush (2001-2009)\n",
      "12. Barack Obama (2009-2017)\n",
      "13. Donald Trump (2017-2021)\n",
      "14. Joe Biden (2021-current) (similarité : 0.75)\n",
      "Chatbot : Here is a list of all the US Presidents since 1947:\n",
      "\n",
      "1. Harry S. Truman (1945-1953)\n",
      "2. Dwight D. Eisenhower (1953-1961)\n",
      "3. John F. Kennedy (1961-1963)\n",
      "4. Lyndon B. Johnson (1963-1969)\n",
      "5. Richard Nixon (1969-1974)\n",
      "6. Gerald Ford (1974-1977)\n",
      "7. Jimmy Carter (1977-1981)\n",
      "8. Ronald Reagan (1981-1989)\n",
      "9. George H. W. Bush (1989-1993)\n",
      "10. Bill Clinton (1993-2001)\n",
      "11. George W. Bush (2001-2009)\n",
      "12. Barack Obama (2009-2017)\n",
      "13. Donald Trump (2017-2021)\n",
      "14. Joe Biden (2021-current) (similarité : 0.77)\n",
      "Chatbot : 1. Eat a balanced and nutritious diet: Make sure your meals are inclusive of a variety of fruits and vegetables, lean protein, whole grains, and healthy fats. This helps to provide your body with the essential nutrients to function at its best and can help prevent chronic diseases.\n",
      "\n",
      "2. Engage in regular physical activity: Exercise is crucial for maintaining strong bones, muscles, and cardiovascular health. Aim for at least 150 minutes of moderate aerobic exercise or 75 minutes of vigorous exercise each week.\n",
      "\n",
      "3. Get enough sleep: Getting enough quality sleep is crucial for physical and mental well-being. It helps to regulate mood, improve cognitive function, and supports healthy growth and immune function. Aim for 7-9 hours of sleep each night. (similarité : nan)\n",
      "Chatbot : 1. Eat a balanced and nutritious diet: Make sure your meals are inclusive of a variety of fruits and vegetables, lean protein, whole grains, and healthy fats. This helps to provide your body with the essential nutrients to function at its best and can help prevent chronic diseases.\n",
      "\n",
      "2. Engage in regular physical activity: Exercise is crucial for maintaining strong bones, muscles, and cardiovascular health. Aim for at least 150 minutes of moderate aerobic exercise or 75 minutes of vigorous exercise each week.\n",
      "\n",
      "3. Get enough sleep: Getting enough quality sleep is crucial for physical and mental well-being. It helps to regulate mood, improve cognitive function, and supports healthy growth and immune function. Aim for 7-9 hours of sleep each night. (similarité : nan)\n",
      "Chatbot : 1. Eat a balanced and nutritious diet: Make sure your meals are inclusive of a variety of fruits and vegetables, lean protein, whole grains, and healthy fats. This helps to provide your body with the essential nutrients to function at its best and can help prevent chronic diseases.\n",
      "\n",
      "2. Engage in regular physical activity: Exercise is crucial for maintaining strong bones, muscles, and cardiovascular health. Aim for at least 150 minutes of moderate aerobic exercise or 75 minutes of vigorous exercise each week.\n",
      "\n",
      "3. Get enough sleep: Getting enough quality sleep is crucial for physical and mental well-being. It helps to regulate mood, improve cognitive function, and supports healthy growth and immune function. Aim for 7-9 hours of sleep each night. (similarité : nan)\n",
      "Chatbot : 1. Eat a balanced and nutritious diet: Make sure your meals are inclusive of a variety of fruits and vegetables, lean protein, whole grains, and healthy fats. This helps to provide your body with the essential nutrients to function at its best and can help prevent chronic diseases.\n",
      "\n",
      "2. Engage in regular physical activity: Exercise is crucial for maintaining strong bones, muscles, and cardiovascular health. Aim for at least 150 minutes of moderate aerobic exercise or 75 minutes of vigorous exercise each week.\n",
      "\n",
      "3. Get enough sleep: Getting enough quality sleep is crucial for physical and mental well-being. It helps to regulate mood, improve cognitive function, and supports healthy growth and immune function. Aim for 7-9 hours of sleep each night. (similarité : nan)\n"
     ]
    }
   ],
   "source": [
    "def chatbot(qa_pairs, model):\n",
    "    \"\"\"\n",
    "    Chatbot simple qui répond aux questions en utilisant la similarité cosinus.\n",
    "    \"\"\"\n",
    "    print(\"Chatbot : Posez votre question ou tapez 'exit' pour quitter.\")\n",
    "    while True:\n",
    "        user_input = st.text_input(\"Votre question, key=\"question\")\n",
    "        if user_input.lower() == \"exit\":\n",
    "            print(\"Chatbot : À bientôt !\")\n",
    "            break\n",
    "        \n",
    "        # Trouver la meilleure correspondance\n",
    "        best_match, similarity_score = find_most_similar_question(user_input, qa_pairs, model)\n",
    "        \n",
    "        # Donner une réponse\n",
    "        st.write(f\"Chatbot : {best_match['answer']} (similarité : {similarity_score:.2f})\")\n",
    "\n",
    "# Lancer le chatbot\n",
    "chatbot(qa_pairs, word2vec_model)"
   ]
  },
  {
   "cell_type": "code",
   "execution_count": null,
   "metadata": {},
   "outputs": [],
   "source": []
  },
  {
   "cell_type": "markdown",
   "metadata": {},
   "source": []
  }
 ],
 "metadata": {
  "kernelspec": {
   "display_name": "Python 3",
   "language": "python",
   "name": "python3"
  },
  "language_info": {
   "codemirror_mode": {
    "name": "ipython",
    "version": 3
   },
   "file_extension": ".py",
   "mimetype": "text/x-python",
   "name": "python",
   "nbconvert_exporter": "python",
   "pygments_lexer": "ipython3",
   "version": "3.11.9"
  }
 },
 "nbformat": 4,
 "nbformat_minor": 2
}
